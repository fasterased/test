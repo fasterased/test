{
  "nbformat": 4,
  "nbformat_minor": 0,
  "metadata": {
    "colab": {
      "provenance": [],
      "authorship_tag": "ABX9TyP8qmY2eTAnsoltxWtGqLVt",
      "include_colab_link": true
    },
    "kernelspec": {
      "name": "python3",
      "display_name": "Python 3"
    },
    "language_info": {
      "name": "python"
    }
  },
  "cells": [
    {
      "cell_type": "markdown",
      "metadata": {
        "id": "view-in-github",
        "colab_type": "text"
      },
      "source": [
        "<a href=\"https://colab.research.google.com/github/fasterased/test/blob/main/task7_3.ipynb\" target=\"_parent\"><img src=\"https://colab.research.google.com/assets/colab-badge.svg\" alt=\"Open In Colab\"/></a>"
      ]
    },
    {
      "cell_type": "code",
      "source": [
        "from datetime import datetime, timedelta\n",
        "\n",
        "\n",
        "def is_time_format(input_string):\n",
        "    try:\n",
        "        datetime.strptime(input_string, \"%H.%M\")\n",
        "        return True\n",
        "    except ValueError:\n",
        "        return False\n",
        "\n",
        "\n",
        "def check_input(a):\n",
        "    if len(a) == 2 and isinstance(a[1], int) and is_time_format(a[0]) and a[1]>0:\n",
        "        return True\n",
        "    else:\n",
        "        return False\n",
        "\n",
        "\n",
        "def main(spski):\n",
        "    for i in spski:\n",
        "        if check_input(i):\n",
        "            new = calculate_time(i)\n",
        "            return new\n",
        "\n",
        "\n",
        "\n",
        "def calculate_time(t):\n",
        "    time_obj = datetime.strptime(t[0], '%H.%M')\n",
        "    new_time = time_obj + timedelta(hours=t[1], minutes=t[1])\n",
        "    return new_time.strftime('%H.%M')\n",
        "print(main([['11', 8], ['14.02', -9], [], [5, '11.03'], ['11.03', 5]]))\n"
      ],
      "metadata": {
        "colab": {
          "base_uri": "https://localhost:8080/"
        },
        "id": "usRJwowj6eqx",
        "outputId": "d3a1f471-8469-4363-ed85-8da91e444c31"
      },
      "execution_count": 1,
      "outputs": [
        {
          "output_type": "stream",
          "name": "stdout",
          "text": [
            "16.08\n"
          ]
        }
      ]
    }
  ]
}